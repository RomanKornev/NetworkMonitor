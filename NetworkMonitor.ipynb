{
 "cells": [
  {
   "cell_type": "code",
   "execution_count": null,
   "metadata": {
    "collapsed": false
   },
   "outputs": [],
   "source": [
    "import ujson\n",
    "import pandas as pd\n",
    "%matplotlib inline\n",
    "import matplotlib.pyplot as plt\n",
    "import os\n",
    "import psutil as ps\n",
    "import datetime\n",
    "import seaborn as sns\n",
    "\n",
    "LOGS = './logs/'\n",
    "FILENAME = LOGS + os.listdir(LOGS)[-1]\n",
    "UPDATE_TIME = 10  # seconds\n",
    "\n",
    "def load(filename):\n",
    "    with open(filename, mode='r') as file:\n",
    "        raw = ujson.load(file)\n",
    "        data = {int(timestamp): ps._common.snetio(*fields) for timestamp, fields in raw.items()}\n",
    "    return data\n",
    "\n",
    "raw = load(FILENAME)"
   ]
  },
  {
   "cell_type": "code",
   "execution_count": null,
   "metadata": {
    "collapsed": false,
    "scrolled": true
   },
   "outputs": [],
   "source": [
    "data = pd.DataFrame.from_dict(data=raw, orient='index')\n",
    "data = data[['bytes_sent', 'bytes_recv']]\n",
    "data = data.apply(lambda x: x/1024/1024)\n",
    "data.sort_index(inplace=True)\n",
    "data.index = data.index.map(datetime.datetime.fromtimestamp)"
   ]
  },
  {
   "cell_type": "code",
   "execution_count": null,
   "metadata": {
    "collapsed": false
   },
   "outputs": [],
   "source": [
    "data.plot()"
   ]
  },
  {
   "cell_type": "code",
   "execution_count": null,
   "metadata": {
    "collapsed": false
   },
   "outputs": [],
   "source": [
    "data = data.resample('{}s'.format(UPDATE_TIME)).sum()\n",
    "data['download_speed'] = data['bytes_recv'].diff().apply(lambda x: x/UPDATE_TIME*8)  # megabits/second\n",
    "data['upload_speed'] =   data['bytes_sent'].diff().apply(lambda x: x/UPDATE_TIME*8)  # megabits/second"
   ]
  },
  {
   "cell_type": "code",
   "execution_count": null,
   "metadata": {
    "collapsed": false
   },
   "outputs": [],
   "source": [
    "data[['download_speed', 'upload_speed']].plot()"
   ]
  },
  {
   "cell_type": "code",
   "execution_count": null,
   "metadata": {
    "collapsed": true
   },
   "outputs": [],
   "source": []
  }
 ],
 "metadata": {
  "kernelspec": {
   "display_name": "Python 3",
   "language": "python",
   "name": "python3"
  },
  "language_info": {
   "codemirror_mode": {
    "name": "ipython",
    "version": 3
   },
   "file_extension": ".py",
   "mimetype": "text/x-python",
   "name": "python",
   "nbconvert_exporter": "python",
   "pygments_lexer": "ipython3",
   "version": "3.5.2"
  }
 },
 "nbformat": 4,
 "nbformat_minor": 0
}
